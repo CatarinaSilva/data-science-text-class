{
 "cells": [
  {
   "cell_type": "code",
   "execution_count": null,
   "metadata": {},
   "outputs": [],
   "source": [
    "## Abstract view of dimensionality reduction\n",
    "\n",
    "# Manual examples\n",
    "# Engineered feature processing to reduce dimensionality\n",
    "# Link to BLU7 TFIDF vectorizer \n",
    "\n",
    "# Mention the existence of automatic methods for this \n"
   ]
  }
 ],
 "metadata": {
  "kernelspec": {
   "display_name": "Python 2",
   "language": "python",
   "name": "python2"
  },
  "language_info": {
   "codemirror_mode": {
    "name": "ipython",
    "version": 2
   },
   "file_extension": ".py",
   "mimetype": "text/x-python",
   "name": "python",
   "nbconvert_exporter": "python",
   "pygments_lexer": "ipython2",
   "version": "2.7.14"
  }
 },
 "nbformat": 4,
 "nbformat_minor": 2
}
